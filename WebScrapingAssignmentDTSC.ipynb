{
 "cells": [
  {
   "cell_type": "code",
   "execution_count": 2,
   "id": "48522274",
   "metadata": {},
   "outputs": [],
   "source": [
    "import pandas as pd\n",
    "import requests\n",
    "from bs4 import BeautifulSoup"
   ]
  },
  {
   "cell_type": "code",
   "execution_count": 3,
   "id": "db89a48a",
   "metadata": {},
   "outputs": [],
   "source": [
    "# URL\n",
    "url = 'https://webpages.charlotte.edu/mscipion/'"
   ]
  },
  {
   "cell_type": "code",
   "execution_count": 4,
   "id": "062a2255",
   "metadata": {},
   "outputs": [],
   "source": [
    "#Sending HTTP request to get the content of the webpage\n",
    "response = requests.get(url)\n",
    "response.raise_for_status() #checks if response status code is an error. Ex: 401"
   ]
  },
  {
   "cell_type": "code",
   "execution_count": 5,
   "id": "61108fda",
   "metadata": {},
   "outputs": [],
   "source": [
    "#Parsing through the HTML content and storing in BeautifulSoup object\n",
    "soup = BeautifulSoup(response.content, 'html.parser')"
   ]
  },
  {
   "cell_type": "code",
   "execution_count": 6,
   "id": "2c6b3ab4",
   "metadata": {},
   "outputs": [],
   "source": [
    "#Finding the table\n",
    "table = soup.find('table')"
   ]
  },
  {
   "cell_type": "code",
   "execution_count": 9,
   "id": "ce1c5322",
   "metadata": {},
   "outputs": [],
   "source": [
    "tableData = []\n",
    "headers = []\n",
    "\n",
    "#Extracting headers\n",
    "for h in table.find_all('th'):\n",
    "    headers.append(h.text.strip())\n",
    "\n",
    "#Extracting rows\n",
    "for r in table.find_all('tr')[1:]: #skip the first row - headers\n",
    "    cols = r.find_all('td')\n",
    "    cols = [ele.text.strip() for ele in cols]\n",
    "    tableData.append(cols)"
   ]
  },
  {
   "cell_type": "code",
   "execution_count": 10,
   "id": "ccab53d7",
   "metadata": {},
   "outputs": [],
   "source": [
    "#Creating dataframe\n",
    "df = pd.DataFrame(tableData, columns=headers)"
   ]
  },
  {
   "cell_type": "code",
   "execution_count": 11,
   "id": "15c321e4",
   "metadata": {},
   "outputs": [
    {
     "data": {
      "text/html": [
       "<div>\n",
       "<style scoped>\n",
       "    .dataframe tbody tr th:only-of-type {\n",
       "        vertical-align: middle;\n",
       "    }\n",
       "\n",
       "    .dataframe tbody tr th {\n",
       "        vertical-align: top;\n",
       "    }\n",
       "\n",
       "    .dataframe thead th {\n",
       "        text-align: right;\n",
       "    }\n",
       "</style>\n",
       "<table border=\"1\" class=\"dataframe\">\n",
       "  <thead>\n",
       "    <tr style=\"text-align: right;\">\n",
       "      <th></th>\n",
       "      <th>Student</th>\n",
       "      <th>Favourite Computer Language</th>\n",
       "      <th>Years of Experience</th>\n",
       "    </tr>\n",
       "  </thead>\n",
       "  <tbody>\n",
       "    <tr>\n",
       "      <th>0</th>\n",
       "      <td>Fred</td>\n",
       "      <td>Kotlin</td>\n",
       "      <td>4</td>\n",
       "    </tr>\n",
       "    <tr>\n",
       "      <th>1</th>\n",
       "      <td>Paula</td>\n",
       "      <td>Python</td>\n",
       "      <td>2</td>\n",
       "    </tr>\n",
       "    <tr>\n",
       "      <th>2</th>\n",
       "      <td>Ernst</td>\n",
       "      <td>Java</td>\n",
       "      <td>7</td>\n",
       "    </tr>\n",
       "    <tr>\n",
       "      <th>3</th>\n",
       "      <td>Isabel</td>\n",
       "      <td>C++</td>\n",
       "      <td>3</td>\n",
       "    </tr>\n",
       "    <tr>\n",
       "      <th>4</th>\n",
       "      <td>Tony</td>\n",
       "      <td>Pearl</td>\n",
       "      <td>7</td>\n",
       "    </tr>\n",
       "    <tr>\n",
       "      <th>5</th>\n",
       "      <td>Maria</td>\n",
       "      <td>Cobol</td>\n",
       "      <td>15</td>\n",
       "    </tr>\n",
       "  </tbody>\n",
       "</table>\n",
       "</div>"
      ],
      "text/plain": [
       "  Student Favourite Computer Language Years of Experience\n",
       "0    Fred                      Kotlin                   4\n",
       "1   Paula                      Python                   2\n",
       "2   Ernst                        Java                   7\n",
       "3  Isabel                         C++                   3\n",
       "4    Tony                       Pearl                   7\n",
       "5   Maria                       Cobol                  15"
      ]
     },
     "execution_count": 11,
     "metadata": {},
     "output_type": "execute_result"
    }
   ],
   "source": [
    "#printing dataframe\n",
    "df"
   ]
  },
  {
   "cell_type": "code",
   "execution_count": null,
   "id": "f2723e5a",
   "metadata": {},
   "outputs": [],
   "source": []
  }
 ],
 "metadata": {
  "kernelspec": {
   "display_name": "Python 3 (ipykernel)",
   "language": "python",
   "name": "python3"
  },
  "language_info": {
   "codemirror_mode": {
    "name": "ipython",
    "version": 3
   },
   "file_extension": ".py",
   "mimetype": "text/x-python",
   "name": "python",
   "nbconvert_exporter": "python",
   "pygments_lexer": "ipython3",
   "version": "3.11.5"
  }
 },
 "nbformat": 4,
 "nbformat_minor": 5
}
